{
 "cells": [
  {
   "cell_type": "markdown",
   "id": "cb01c586",
   "metadata": {},
   "source": [
    "**If ModuleNotFoundError: No module named XYZ:**   \n",
    "  \n",
    "  \n",
    "\n",
    "**Try:**\n",
    "\n",
    "\n",
    "import sys  \n",
    "!{sys.executable} -m pip install package_name"
   ]
  },
  {
   "cell_type": "markdown",
   "id": "57ebd673",
   "metadata": {},
   "source": [
    "---"
   ]
  },
  {
   "cell_type": "markdown",
   "id": "b370a1f5",
   "metadata": {},
   "source": [
    "## How to insert a table\n",
    "\n",
    "| How | To | Make | a table|\n",
    "| :---: | :---: | :---: | :---: |\n",
    "| in   | <span style= 'background:yellow'> Jupyter </span>| <span style= 'background:yellow'> Notebook </span>| <span style= 'background:yellow'> Markdown </span> |\n",
    "| It | is | really| cool |"
   ]
  },
  {
   "cell_type": "markdown",
   "id": "439249fb",
   "metadata": {},
   "source": [
    "## How to insert a Link\n",
    "\n",
    "[Link to python logo](https://logos-world.net/wp-content/uploads/2021/10/Python-Symbol.png)"
   ]
  },
  {
   "cell_type": "markdown",
   "id": "cc5ec28b",
   "metadata": {},
   "source": [
    "## How to insert an image\n",
    "\n",
    "![Image Test](https://logos-world.net/wp-content/uploads/2021/10/Python-Symbol.png)"
   ]
  },
  {
   "cell_type": "code",
   "execution_count": 14,
   "id": "0dff2387",
   "metadata": {},
   "outputs": [],
   "source": [
    "import datetime\n",
    "\n",
    "now = datetime.datetime.now()"
   ]
  },
  {
   "cell_type": "code",
   "execution_count": 15,
   "id": "7864391a",
   "metadata": {},
   "outputs": [
    {
     "name": "stdout",
     "output_type": "stream",
     "text": [
      "2022-08-09 21:27:50.262312\n"
     ]
    }
   ],
   "source": [
    "print(now)"
   ]
  },
  {
   "cell_type": "code",
   "execution_count": null,
   "id": "1a335a91",
   "metadata": {},
   "outputs": [],
   "source": []
  }
 ],
 "metadata": {
  "kernelspec": {
   "display_name": "Python 3 (ipykernel)",
   "language": "python",
   "name": "python3"
  },
  "language_info": {
   "codemirror_mode": {
    "name": "ipython",
    "version": 3
   },
   "file_extension": ".py",
   "mimetype": "text/x-python",
   "name": "python",
   "nbconvert_exporter": "python",
   "pygments_lexer": "ipython3",
   "version": "3.9.12"
  }
 },
 "nbformat": 4,
 "nbformat_minor": 5
}
